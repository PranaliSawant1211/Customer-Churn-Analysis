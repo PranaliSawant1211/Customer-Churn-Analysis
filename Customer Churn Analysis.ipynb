{
 "cells": [
  {
   "cell_type": "markdown",
   "id": "df8a6010",
   "metadata": {},
   "source": [
    "# Customer Churn Analysis\n",
    "\n",
    "Customer churn is one of the most pressing issues in today's fast-paced industries, not just limited to telecom but extending to sectors like gaming, credit cards, and streaming services. High churn rates directly impact a company's ability to grow and remain competitive. By utilizing the 'Telecom Churn Prediction' dataset, we can dive deep into understanding why customers leave and leverage predictive models to anticipate churn, enabling businesses to take preemptive actions to retain their customers.\n",
    "\n",
    "\n",
    "### What is Customer Churn?\n",
    "Customer churn refers to the percentage of customers who stop using a service during a specific time period. For example, a company with 100 customers at the start of the month, and losing 10 by the end, would have a 10% churn rate. When a customer cancels their subscription or stops engaging with a product, they’ve “churned.” The goal is to retain as many customers as possible to lower the churn rate, as it's five times more expensive to acquire a new customer than to retain an existing one.\n",
    "\n",
    "\n",
    "### Why is Churn So Critical?\n",
    "High churn rates are costly. Not only does the company lose revenue, but it also has to spend additional resources on acquiring new customers to replace those who leave. Customer retention is the secret to sustainable growth, and businesses that focus on minimizing churn while acquiring new customers gain a competitive edge.\n",
    "\n",
    "For example, companies in the telecom sector face an annual churn rate of 15-25%, which makes it difficult to grow unless customer retention strategies are implemented. Predicting churn with data-driven models allows companies to act on high-risk customers, offering personalized interventions such as discounts, enhanced services, or loyalty programs to keep them engaged.\n",
    "\n",
    "\n",
    "### Insights for the Telecom Industry:\n",
    "Customers in telecom have multiple service provider options, and switching between them is easier than ever. Understanding the behavioral patterns that lead to churn, such as dissatisfaction with customer support, higher fees, or lack of value-added services, enables businesses to respond proactively.\n",
    "\n",
    "Companies that reduce churn by just 5% can see a profit increase between 25% and 95%, according to research. Thus, targeting customers who are at risk of leaving could transform the overall business landscape, allowing companies to not only retain customers but also gain customer loyalty and advocacy.\n",
    "\n",
    "## Data Dictionary Overview:\n",
    "\n",
    "CustomerID: Unique identifier for each customer.\n",
    "\n",
    "Gender: Customer's gender (Male, Female).\n",
    "\n",
    "Senior Citizen: Whether the customer is 65 or older (Yes, No).\n",
    "\n",
    "Married (Partner): Indicates if the customer is married (Yes, No).\n",
    "\n",
    "Dependents: Whether the customer lives with dependents (Yes, No).\n",
    "\n",
    "Phone Service: Whether the customer has a phone service with the company.\n",
    "\n",
    "Internet Service: Whether the customer has internet service (DSL, Fiber Optic).\n",
    "\n",
    "Online Security: Whether the customer has subscribed to online security services.\n",
    "\n",
    "Streaming TV/Movies: Whether the customer uses the internet to stream TV or movies.\n",
    "\n",
    "Contract: Type of contract (Month-to-Month, One Year, Two Year).\n",
    "\n",
    "Paperless Billing: Whether the customer uses paperless billing.\n",
    "\n",
    "Payment Method: Customer's payment method (Bank Withdrawal, Credit Card, Mailed Check).\n",
    "\n",
    "Monthly Charge: Total monthly charge for services.\n",
    "\n",
    "Total Charges: Total charges to date.\n",
    "\n",
    "Tenure: The number of months a customer has been with the company.\n",
    "\n",
    "Churn: Whether the customer left the company (Yes, No).\n",
    "\n",
    "By analyzing these features, businesses can unlock actionable insights, such as discovering that customers who subscribe to multiple services tend to stay longer, or that those on month-to-month contracts are more likely to churn than those on longer-term contracts. Predicting churn gives companies the power to intervene and tailor strategies that keep customers satisfied and engaged.\n",
    "\n",
    "In the highly competitive telecom industry, customer satisfaction and retention are the cornerstones of success, making churn prediction not just a necessity, but a strategic advantage."
   ]
  },
  {
   "cell_type": "code",
   "execution_count": 1,
   "id": "741190c5",
   "metadata": {},
   "outputs": [],
   "source": [
    "#Importing Libraries\n",
    "import pandas as pd\n",
    "import numpy as np\n",
    "import matplotlib.pyplot as plt\n",
    "import seaborn as sns\n",
    "from matplotlib import rcParams\n",
    "\n",
    "from sklearn import metrics\n",
    "\n",
    "from sklearn.model_selection import train_test_split\n",
    "from sklearn.metrics import recall_score, confusion_matrix, classification_report, accuracy_score\n",
    "from sklearn.preprocessing import MinMaxScaler\n",
    "from sklearn.linear_model import LogisticRegression\n",
    "from sklearn.tree import DecisionTreeClassifier\n",
    "from imblearn.combine import SMOTEENN \n",
    "from sklearn.ensemble import RandomForestClassifier\n",
    "from sklearn.ensemble import AdaBoostClassifier\n",
    "#Parameters for plots\n",
    "rcParams['figure.figsize'] = 8,6\n",
    "sns.set_style('darkgrid')\n",
    "rcParams['axes.titlepad']=15\n",
    "RB = [\"#123ea6\", \"#e63707\"]\n",
    "sns.set_palette(RB)\n",
    "\n",
    "import os\n",
    "for dirname, _, filenames in os.walk('/kaggle/input'):\n",
    "    for filename in filenames:\n",
    "        print(os.path.join(dirname, filename))"
   ]
  },
  {
   "cell_type": "markdown",
   "id": "3de4396e",
   "metadata": {},
   "source": [
    "# Loading the dataset"
   ]
  },
  {
   "cell_type": "code",
   "execution_count": 2,
   "id": "5f45fd6c",
   "metadata": {},
   "outputs": [],
   "source": [
    "# Load the Dataset.\n",
    "churn_data = pd.read_csv(\"C:/Users/prana/OneDrive/Documents/Data Analytics Projects/Customer Churn Analysis/WA_Fn-UseC_-Telco-Customer-Churn.csv\")"
   ]
  },
  {
   "cell_type": "code",
   "execution_count": 3,
   "id": "a2ba2783",
   "metadata": {},
   "outputs": [
    {
     "data": {
      "text/html": [
       "<div>\n",
       "<style scoped>\n",
       "    .dataframe tbody tr th:only-of-type {\n",
       "        vertical-align: middle;\n",
       "    }\n",
       "\n",
       "    .dataframe tbody tr th {\n",
       "        vertical-align: top;\n",
       "    }\n",
       "\n",
       "    .dataframe thead th {\n",
       "        text-align: right;\n",
       "    }\n",
       "</style>\n",
       "<table border=\"1\" class=\"dataframe\">\n",
       "  <thead>\n",
       "    <tr style=\"text-align: right;\">\n",
       "      <th></th>\n",
       "      <th>customerID</th>\n",
       "      <th>gender</th>\n",
       "      <th>SeniorCitizen</th>\n",
       "      <th>Partner</th>\n",
       "      <th>Dependents</th>\n",
       "      <th>tenure</th>\n",
       "      <th>PhoneService</th>\n",
       "      <th>MultipleLines</th>\n",
       "      <th>InternetService</th>\n",
       "      <th>OnlineSecurity</th>\n",
       "      <th>...</th>\n",
       "      <th>DeviceProtection</th>\n",
       "      <th>TechSupport</th>\n",
       "      <th>StreamingTV</th>\n",
       "      <th>StreamingMovies</th>\n",
       "      <th>Contract</th>\n",
       "      <th>PaperlessBilling</th>\n",
       "      <th>PaymentMethod</th>\n",
       "      <th>MonthlyCharges</th>\n",
       "      <th>TotalCharges</th>\n",
       "      <th>Churn</th>\n",
       "    </tr>\n",
       "  </thead>\n",
       "  <tbody>\n",
       "    <tr>\n",
       "      <th>0</th>\n",
       "      <td>7590-VHVEG</td>\n",
       "      <td>Female</td>\n",
       "      <td>0</td>\n",
       "      <td>Yes</td>\n",
       "      <td>No</td>\n",
       "      <td>1</td>\n",
       "      <td>No</td>\n",
       "      <td>No phone service</td>\n",
       "      <td>DSL</td>\n",
       "      <td>No</td>\n",
       "      <td>...</td>\n",
       "      <td>No</td>\n",
       "      <td>No</td>\n",
       "      <td>No</td>\n",
       "      <td>No</td>\n",
       "      <td>Month-to-month</td>\n",
       "      <td>Yes</td>\n",
       "      <td>Electronic check</td>\n",
       "      <td>29.85</td>\n",
       "      <td>29.85</td>\n",
       "      <td>No</td>\n",
       "    </tr>\n",
       "    <tr>\n",
       "      <th>1</th>\n",
       "      <td>5575-GNVDE</td>\n",
       "      <td>Male</td>\n",
       "      <td>0</td>\n",
       "      <td>No</td>\n",
       "      <td>No</td>\n",
       "      <td>34</td>\n",
       "      <td>Yes</td>\n",
       "      <td>No</td>\n",
       "      <td>DSL</td>\n",
       "      <td>Yes</td>\n",
       "      <td>...</td>\n",
       "      <td>Yes</td>\n",
       "      <td>No</td>\n",
       "      <td>No</td>\n",
       "      <td>No</td>\n",
       "      <td>One year</td>\n",
       "      <td>No</td>\n",
       "      <td>Mailed check</td>\n",
       "      <td>56.95</td>\n",
       "      <td>1889.5</td>\n",
       "      <td>No</td>\n",
       "    </tr>\n",
       "    <tr>\n",
       "      <th>2</th>\n",
       "      <td>3668-QPYBK</td>\n",
       "      <td>Male</td>\n",
       "      <td>0</td>\n",
       "      <td>No</td>\n",
       "      <td>No</td>\n",
       "      <td>2</td>\n",
       "      <td>Yes</td>\n",
       "      <td>No</td>\n",
       "      <td>DSL</td>\n",
       "      <td>Yes</td>\n",
       "      <td>...</td>\n",
       "      <td>No</td>\n",
       "      <td>No</td>\n",
       "      <td>No</td>\n",
       "      <td>No</td>\n",
       "      <td>Month-to-month</td>\n",
       "      <td>Yes</td>\n",
       "      <td>Mailed check</td>\n",
       "      <td>53.85</td>\n",
       "      <td>108.15</td>\n",
       "      <td>Yes</td>\n",
       "    </tr>\n",
       "    <tr>\n",
       "      <th>3</th>\n",
       "      <td>7795-CFOCW</td>\n",
       "      <td>Male</td>\n",
       "      <td>0</td>\n",
       "      <td>No</td>\n",
       "      <td>No</td>\n",
       "      <td>45</td>\n",
       "      <td>No</td>\n",
       "      <td>No phone service</td>\n",
       "      <td>DSL</td>\n",
       "      <td>Yes</td>\n",
       "      <td>...</td>\n",
       "      <td>Yes</td>\n",
       "      <td>Yes</td>\n",
       "      <td>No</td>\n",
       "      <td>No</td>\n",
       "      <td>One year</td>\n",
       "      <td>No</td>\n",
       "      <td>Bank transfer (automatic)</td>\n",
       "      <td>42.30</td>\n",
       "      <td>1840.75</td>\n",
       "      <td>No</td>\n",
       "    </tr>\n",
       "    <tr>\n",
       "      <th>4</th>\n",
       "      <td>9237-HQITU</td>\n",
       "      <td>Female</td>\n",
       "      <td>0</td>\n",
       "      <td>No</td>\n",
       "      <td>No</td>\n",
       "      <td>2</td>\n",
       "      <td>Yes</td>\n",
       "      <td>No</td>\n",
       "      <td>Fiber optic</td>\n",
       "      <td>No</td>\n",
       "      <td>...</td>\n",
       "      <td>No</td>\n",
       "      <td>No</td>\n",
       "      <td>No</td>\n",
       "      <td>No</td>\n",
       "      <td>Month-to-month</td>\n",
       "      <td>Yes</td>\n",
       "      <td>Electronic check</td>\n",
       "      <td>70.70</td>\n",
       "      <td>151.65</td>\n",
       "      <td>Yes</td>\n",
       "    </tr>\n",
       "  </tbody>\n",
       "</table>\n",
       "<p>5 rows × 21 columns</p>\n",
       "</div>"
      ],
      "text/plain": [
       "   customerID  gender  SeniorCitizen Partner Dependents  tenure PhoneService  \\\n",
       "0  7590-VHVEG  Female              0     Yes         No       1           No   \n",
       "1  5575-GNVDE    Male              0      No         No      34          Yes   \n",
       "2  3668-QPYBK    Male              0      No         No       2          Yes   \n",
       "3  7795-CFOCW    Male              0      No         No      45           No   \n",
       "4  9237-HQITU  Female              0      No         No       2          Yes   \n",
       "\n",
       "      MultipleLines InternetService OnlineSecurity  ... DeviceProtection  \\\n",
       "0  No phone service             DSL             No  ...               No   \n",
       "1                No             DSL            Yes  ...              Yes   \n",
       "2                No             DSL            Yes  ...               No   \n",
       "3  No phone service             DSL            Yes  ...              Yes   \n",
       "4                No     Fiber optic             No  ...               No   \n",
       "\n",
       "  TechSupport StreamingTV StreamingMovies        Contract PaperlessBilling  \\\n",
       "0          No          No              No  Month-to-month              Yes   \n",
       "1          No          No              No        One year               No   \n",
       "2          No          No              No  Month-to-month              Yes   \n",
       "3         Yes          No              No        One year               No   \n",
       "4          No          No              No  Month-to-month              Yes   \n",
       "\n",
       "               PaymentMethod MonthlyCharges  TotalCharges Churn  \n",
       "0           Electronic check          29.85         29.85    No  \n",
       "1               Mailed check          56.95        1889.5    No  \n",
       "2               Mailed check          53.85        108.15   Yes  \n",
       "3  Bank transfer (automatic)          42.30       1840.75    No  \n",
       "4           Electronic check          70.70        151.65   Yes  \n",
       "\n",
       "[5 rows x 21 columns]"
      ]
     },
     "execution_count": 3,
     "metadata": {},
     "output_type": "execute_result"
    }
   ],
   "source": [
    "churn_data.head()"
   ]
  },
  {
   "cell_type": "code",
   "execution_count": 4,
   "id": "3dbfa2ec",
   "metadata": {},
   "outputs": [
    {
     "data": {
      "text/plain": [
       "(7043, 21)"
      ]
     },
     "execution_count": 4,
     "metadata": {},
     "output_type": "execute_result"
    }
   ],
   "source": [
    "churn_data.shape"
   ]
  },
  {
   "cell_type": "code",
   "execution_count": 5,
   "id": "d50663c6",
   "metadata": {},
   "outputs": [
    {
     "data": {
      "text/html": [
       "<div>\n",
       "<style scoped>\n",
       "    .dataframe tbody tr th:only-of-type {\n",
       "        vertical-align: middle;\n",
       "    }\n",
       "\n",
       "    .dataframe tbody tr th {\n",
       "        vertical-align: top;\n",
       "    }\n",
       "\n",
       "    .dataframe thead th {\n",
       "        text-align: right;\n",
       "    }\n",
       "</style>\n",
       "<table border=\"1\" class=\"dataframe\">\n",
       "  <thead>\n",
       "    <tr style=\"text-align: right;\">\n",
       "      <th></th>\n",
       "      <th>SeniorCitizen</th>\n",
       "      <th>tenure</th>\n",
       "      <th>MonthlyCharges</th>\n",
       "    </tr>\n",
       "  </thead>\n",
       "  <tbody>\n",
       "    <tr>\n",
       "      <th>count</th>\n",
       "      <td>7043.000000</td>\n",
       "      <td>7043.000000</td>\n",
       "      <td>7043.000000</td>\n",
       "    </tr>\n",
       "    <tr>\n",
       "      <th>mean</th>\n",
       "      <td>0.162147</td>\n",
       "      <td>32.371149</td>\n",
       "      <td>64.761692</td>\n",
       "    </tr>\n",
       "    <tr>\n",
       "      <th>std</th>\n",
       "      <td>0.368612</td>\n",
       "      <td>24.559481</td>\n",
       "      <td>30.090047</td>\n",
       "    </tr>\n",
       "    <tr>\n",
       "      <th>min</th>\n",
       "      <td>0.000000</td>\n",
       "      <td>0.000000</td>\n",
       "      <td>18.250000</td>\n",
       "    </tr>\n",
       "    <tr>\n",
       "      <th>25%</th>\n",
       "      <td>0.000000</td>\n",
       "      <td>9.000000</td>\n",
       "      <td>35.500000</td>\n",
       "    </tr>\n",
       "    <tr>\n",
       "      <th>50%</th>\n",
       "      <td>0.000000</td>\n",
       "      <td>29.000000</td>\n",
       "      <td>70.350000</td>\n",
       "    </tr>\n",
       "    <tr>\n",
       "      <th>75%</th>\n",
       "      <td>0.000000</td>\n",
       "      <td>55.000000</td>\n",
       "      <td>89.850000</td>\n",
       "    </tr>\n",
       "    <tr>\n",
       "      <th>max</th>\n",
       "      <td>1.000000</td>\n",
       "      <td>72.000000</td>\n",
       "      <td>118.750000</td>\n",
       "    </tr>\n",
       "  </tbody>\n",
       "</table>\n",
       "</div>"
      ],
      "text/plain": [
       "       SeniorCitizen       tenure  MonthlyCharges\n",
       "count    7043.000000  7043.000000     7043.000000\n",
       "mean        0.162147    32.371149       64.761692\n",
       "std         0.368612    24.559481       30.090047\n",
       "min         0.000000     0.000000       18.250000\n",
       "25%         0.000000     9.000000       35.500000\n",
       "50%         0.000000    29.000000       70.350000\n",
       "75%         0.000000    55.000000       89.850000\n",
       "max         1.000000    72.000000      118.750000"
      ]
     },
     "execution_count": 5,
     "metadata": {},
     "output_type": "execute_result"
    }
   ],
   "source": [
    "churn_data.describe()"
   ]
  },
  {
   "cell_type": "code",
   "execution_count": 6,
   "id": "3dd0f056",
   "metadata": {},
   "outputs": [
    {
     "data": {
      "text/plain": [
       "customerID           object\n",
       "gender               object\n",
       "SeniorCitizen         int64\n",
       "Partner              object\n",
       "Dependents           object\n",
       "tenure                int64\n",
       "PhoneService         object\n",
       "MultipleLines        object\n",
       "InternetService      object\n",
       "OnlineSecurity       object\n",
       "OnlineBackup         object\n",
       "DeviceProtection     object\n",
       "TechSupport          object\n",
       "StreamingTV          object\n",
       "StreamingMovies      object\n",
       "Contract             object\n",
       "PaperlessBilling     object\n",
       "PaymentMethod        object\n",
       "MonthlyCharges      float64\n",
       "TotalCharges         object\n",
       "Churn                object\n",
       "dtype: object"
      ]
     },
     "execution_count": 6,
     "metadata": {},
     "output_type": "execute_result"
    }
   ],
   "source": [
    "churn_data.dtypes"
   ]
  },
  {
   "cell_type": "code",
   "execution_count": 8,
   "id": "90ab6bed",
   "metadata": {},
   "outputs": [
    {
     "data": {
      "image/png": "[encoded data removed]",
      "text/plain": [
       "<Figure size 800x600 with 1 Axes>"
      ]
     },
     "metadata": {},
     "output_type": "display_data"
    }
   ],
   "source": [
    "sns.countplot(x=churn_data['Churn'], palette=['#ff9999', '#ff4d4d'])  # Shades of pink and red\n",
    "plt.title('No. of Churned Customers', fontsize=15)\n",
    "plt.show()"
   ]
  },
  {
   "cell_type": "markdown",
   "id": "b0fc5c76",
   "metadata": {},
   "source": [
    "The churn distribution showed a significant portion of churned customers close to 2000, visualized with a count plot. \n",
    "This initial visualization highlighted churn as a substantial issue, setting the foundation for deeper exploration."
   ]
  },
  {
   "cell_type": "markdown",
   "id": "25a34a80",
   "metadata": {},
   "source": [
    "# Data Cleaning"
   ]
  },
  {
   "cell_type": "code",
   "execution_count": 9,
   "id": "7865e07d",
   "metadata": {},
   "outputs": [
    {
     "data": {
      "text/plain": [
       "customerID          0\n",
       "gender              0\n",
       "SeniorCitizen       0\n",
       "Partner             0\n",
       "Dependents          0\n",
       "tenure              0\n",
       "PhoneService        0\n",
       "MultipleLines       0\n",
       "InternetService     0\n",
       "OnlineSecurity      0\n",
       "OnlineBackup        0\n",
       "DeviceProtection    0\n",
       "TechSupport         0\n",
       "StreamingTV         0\n",
       "StreamingMovies     0\n",
       "Contract            0\n",
       "PaperlessBilling    0\n",
       "PaymentMethod       0\n",
       "MonthlyCharges      0\n",
       "TotalCharges        0\n",
       "Churn               0\n",
       "dtype: int64"
      ]
     },
     "execution_count": 9,
     "metadata": {},
     "output_type": "execute_result"
    }
   ],
   "source": [
    "churn_data.isnull().sum()"
   ]
  },
  {
   "cell_type": "code",
   "execution_count": 10,
   "id": "ef2c0c1b",
   "metadata": {},
   "outputs": [
    {
     "name": "stdout",
     "output_type": "stream",
     "text": [
      "<class 'pandas.core.frame.DataFrame'>\n",
      "RangeIndex: 7043 entries, 0 to 7042\n",
      "Data columns (total 21 columns):\n",
      " #   Column            Non-Null Count  Dtype  \n",
      "---  ------            --------------  -----  \n",
      " 0   customerID        7043 non-null   object \n",
      " 1   gender            7043 non-null   object \n",
      " 2   SeniorCitizen     7043 non-null   int64  \n",
      " 3   Partner           7043 non-null   object \n",
      " 4   Dependents        7043 non-null   object \n",
      " 5   tenure            7043 non-null   int64  \n",
      " 6   PhoneService      7043 non-null   object \n",
      " 7   MultipleLines     7043 non-null   object \n",
      " 8   InternetService   7043 non-null   object \n",
      " 9   OnlineSecurity    7043 non-null   object \n",
      " 10  OnlineBackup      7043 non-null   object \n",
      " 11  DeviceProtection  7043 non-null   object \n",
      " 12  TechSupport       7043 non-null   object \n",
      " 13  StreamingTV       7043 non-null   object \n",
      " 14  StreamingMovies   7043 non-null   object \n",
      " 15  Contract          7043 non-null   object \n",
      " 16  PaperlessBilling  7043 non-null   object \n",
      " 17  PaymentMethod     7043 non-null   object \n",
      " 18  MonthlyCharges    7043 non-null   float64\n",
      " 19  TotalCharges      7043 non-null   object \n",
      " 20  Churn             7043 non-null   object \n",
      "dtypes: float64(1), int64(2), object(18)\n",
      "memory usage: 1.1+ MB\n"
     ]
    }
   ],
   "source": [
    "churn_data.info()"
   ]
  },
  {
   "cell_type": "code",
   "execution_count": 11,
   "id": "2f250506",
   "metadata": {},
   "outputs": [
    {
     "data": {
      "text/plain": [
       "customerID           0\n",
       "gender               0\n",
       "SeniorCitizen        0\n",
       "Partner              0\n",
       "Dependents           0\n",
       "tenure               0\n",
       "PhoneService         0\n",
       "MultipleLines        0\n",
       "InternetService      0\n",
       "OnlineSecurity       0\n",
       "OnlineBackup         0\n",
       "DeviceProtection     0\n",
       "TechSupport          0\n",
       "StreamingTV          0\n",
       "StreamingMovies      0\n",
       "Contract             0\n",
       "PaperlessBilling     0\n",
       "PaymentMethod        0\n",
       "MonthlyCharges       0\n",
       "TotalCharges        11\n",
       "Churn                0\n",
       "dtype: int64"
      ]
     },
     "execution_count": 11,
     "metadata": {},
     "output_type": "execute_result"
    }
   ],
   "source": [
    "churn_df= churn_data.copy()\n",
    "churn_df['TotalCharges']=pd.to_numeric(churn_data['TotalCharges'],errors='coerce') #coerce puts NaN values if there are any parsing errors\n",
    "churn_df.isnull().sum()"
   ]
  },
  {
   "cell_type": "code",
   "execution_count": 12,
   "id": "1a005d52",
   "metadata": {},
   "outputs": [],
   "source": [
    "#Dropping the null values\n",
    "churn_df.dropna(inplace=True)"
   ]
  },
  {
   "cell_type": "markdown",
   "id": "2746d7ac",
   "metadata": {},
   "source": [
    "Null values in TotalCharges were filled or removed, as these missing values were associated with new customers without full billing cycles."
   ]
  },
  {
   "cell_type": "code",
   "execution_count": 13,
   "id": "f56ab326",
   "metadata": {},
   "outputs": [
    {
     "data": {
      "text/plain": [
       "customerID          0\n",
       "gender              0\n",
       "SeniorCitizen       0\n",
       "Partner             0\n",
       "Dependents          0\n",
       "tenure              0\n",
       "PhoneService        0\n",
       "MultipleLines       0\n",
       "InternetService     0\n",
       "OnlineSecurity      0\n",
       "OnlineBackup        0\n",
       "DeviceProtection    0\n",
       "TechSupport         0\n",
       "StreamingTV         0\n",
       "StreamingMovies     0\n",
       "Contract            0\n",
       "PaperlessBilling    0\n",
       "PaymentMethod       0\n",
       "MonthlyCharges      0\n",
       "TotalCharges        0\n",
       "Churn               0\n",
       "dtype: int64"
      ]
     },
     "execution_count": 13,
     "metadata": {},
     "output_type": "execute_result"
    }
   ],
   "source": [
    "churn_df.isnull().sum()"
   ]
  },
  {
   "cell_type": "code",
   "execution_count": 14,
   "id": "c2bd76e1",
   "metadata": {},
   "outputs": [
    {
     "data": {
      "text/html": [
       "<div>\n",
       "<style scoped>\n",
       "    .dataframe tbody tr th:only-of-type {\n",
       "        vertical-align: middle;\n",
       "    }\n",
       "\n",
       "    .dataframe tbody tr th {\n",
       "        vertical-align: top;\n",
       "    }\n",
       "\n",
       "    .dataframe thead th {\n",
       "        text-align: right;\n",
       "    }\n",
       "</style>\n",
       "<table border=\"1\" class=\"dataframe\">\n",
       "  <thead>\n",
       "    <tr style=\"text-align: right;\">\n",
       "      <th></th>\n",
       "      <th>gender</th>\n",
       "      <th>SeniorCitizen</th>\n",
       "      <th>Partner</th>\n",
       "      <th>Dependents</th>\n",
       "      <th>tenure</th>\n",
       "      <th>PhoneService</th>\n",
       "      <th>MultipleLines</th>\n",
       "      <th>InternetService</th>\n",
       "      <th>OnlineSecurity</th>\n",
       "      <th>OnlineBackup</th>\n",
       "      <th>DeviceProtection</th>\n",
       "      <th>TechSupport</th>\n",
       "      <th>StreamingTV</th>\n",
       "      <th>StreamingMovies</th>\n",
       "      <th>Contract</th>\n",
       "      <th>PaperlessBilling</th>\n",
       "      <th>PaymentMethod</th>\n",
       "      <th>MonthlyCharges</th>\n",
       "      <th>TotalCharges</th>\n",
       "      <th>Churn</th>\n",
       "    </tr>\n",
       "  </thead>\n",
       "  <tbody>\n",
       "    <tr>\n",
       "      <th>0</th>\n",
       "      <td>Female</td>\n",
       "      <td>0</td>\n",
       "      <td>Yes</td>\n",
       "      <td>No</td>\n",
       "      <td>1</td>\n",
       "      <td>No</td>\n",
       "      <td>No phone service</td>\n",
       "      <td>DSL</td>\n",
       "      <td>No</td>\n",
       "      <td>Yes</td>\n",
       "      <td>No</td>\n",
       "      <td>No</td>\n",
       "      <td>No</td>\n",
       "      <td>No</td>\n",
       "      <td>Month-to-month</td>\n",
       "      <td>Yes</td>\n",
       "      <td>Electronic check</td>\n",
       "      <td>29.85</td>\n",
       "      <td>29.85</td>\n",
       "      <td>No</td>\n",
       "    </tr>\n",
       "    <tr>\n",
       "      <th>1</th>\n",
       "      <td>Male</td>\n",
       "      <td>0</td>\n",
       "      <td>No</td>\n",
       "      <td>No</td>\n",
       "      <td>34</td>\n",
       "      <td>Yes</td>\n",
       "      <td>No</td>\n",
       "      <td>DSL</td>\n",
       "      <td>Yes</td>\n",
       "      <td>No</td>\n",
       "      <td>Yes</td>\n",
       "      <td>No</td>\n",
       "      <td>No</td>\n",
       "      <td>No</td>\n",
       "      <td>One year</td>\n",
       "      <td>No</td>\n",
       "      <td>Mailed check</td>\n",
       "      <td>56.95</td>\n",
       "      <td>1889.50</td>\n",
       "      <td>No</td>\n",
       "    </tr>\n",
       "    <tr>\n",
       "      <th>2</th>\n",
       "      <td>Male</td>\n",
       "      <td>0</td>\n",
       "      <td>No</td>\n",
       "      <td>No</td>\n",
       "      <td>2</td>\n",
       "      <td>Yes</td>\n",
       "      <td>No</td>\n",
       "      <td>DSL</td>\n",
       "      <td>Yes</td>\n",
       "      <td>Yes</td>\n",
       "      <td>No</td>\n",
       "      <td>No</td>\n",
       "      <td>No</td>\n",
       "      <td>No</td>\n",
       "      <td>Month-to-month</td>\n",
       "      <td>Yes</td>\n",
       "      <td>Mailed check</td>\n",
       "      <td>53.85</td>\n",
       "      <td>108.15</td>\n",
       "      <td>Yes</td>\n",
       "    </tr>\n",
       "    <tr>\n",
       "      <th>3</th>\n",
       "      <td>Male</td>\n",
       "      <td>0</td>\n",
       "      <td>No</td>\n",
       "      <td>No</td>\n",
       "      <td>45</td>\n",
       "      <td>No</td>\n",
       "      <td>No phone service</td>\n",
       "      <td>DSL</td>\n",
       "      <td>Yes</td>\n",
       "      <td>No</td>\n",
       "      <td>Yes</td>\n",
       "      <td>Yes</td>\n",
       "      <td>No</td>\n",
       "      <td>No</td>\n",
       "      <td>One year</td>\n",
       "      <td>No</td>\n",
       "      <td>Bank transfer (automatic)</td>\n",
       "      <td>42.30</td>\n",
       "      <td>1840.75</td>\n",
       "      <td>No</td>\n",
       "    </tr>\n",
       "    <tr>\n",
       "      <th>4</th>\n",
       "      <td>Female</td>\n",
       "      <td>0</td>\n",
       "      <td>No</td>\n",
       "      <td>No</td>\n",
       "      <td>2</td>\n",
       "      <td>Yes</td>\n",
       "      <td>No</td>\n",
       "      <td>Fiber optic</td>\n",
       "      <td>No</td>\n",
       "      <td>No</td>\n",
       "      <td>No</td>\n",
       "      <td>No</td>\n",
       "      <td>No</td>\n",
       "      <td>No</td>\n",
       "      <td>Month-to-month</td>\n",
       "      <td>Yes</td>\n",
       "      <td>Electronic check</td>\n",
       "      <td>70.70</td>\n",
       "      <td>151.65</td>\n",
       "      <td>Yes</td>\n",
       "    </tr>\n",
       "  </tbody>\n",
       "</table>\n",
       "</div>"
      ],
      "text/plain": [
       "   gender  SeniorCitizen Partner Dependents  tenure PhoneService  \\\n",
       "0  Female              0     Yes         No       1           No   \n",
       "1    Male              0      No         No      34          Yes   \n",
       "2    Male              0      No         No       2          Yes   \n",
       "3    Male              0      No         No      45           No   \n",
       "4  Female              0      No         No       2          Yes   \n",
       "\n",
       "      MultipleLines InternetService OnlineSecurity OnlineBackup  \\\n",
       "0  No phone service             DSL             No          Yes   \n",
       "1                No             DSL            Yes           No   \n",
       "2                No             DSL            Yes          Yes   \n",
       "3  No phone service             DSL            Yes           No   \n",
       "4                No     Fiber optic             No           No   \n",
       "\n",
       "  DeviceProtection TechSupport StreamingTV StreamingMovies        Contract  \\\n",
       "0               No          No          No              No  Month-to-month   \n",
       "1              Yes          No          No              No        One year   \n",
       "2               No          No          No              No  Month-to-month   \n",
       "3              Yes         Yes          No              No        One year   \n",
       "4               No          No          No              No  Month-to-month   \n",
       "\n",
       "  PaperlessBilling              PaymentMethod  MonthlyCharges  TotalCharges  \\\n",
       "0              Yes           Electronic check           29.85         29.85   \n",
       "1               No               Mailed check           56.95       1889.50   \n",
       "2              Yes               Mailed check           53.85        108.15   \n",
       "3               No  Bank transfer (automatic)           42.30       1840.75   \n",
       "4              Yes           Electronic check           70.70        151.65   \n",
       "\n",
       "  Churn  \n",
       "0    No  \n",
       "1    No  \n",
       "2   Yes  \n",
       "3    No  \n",
       "4   Yes  "
      ]
     },
     "execution_count": 14,
     "metadata": {},
     "output_type": "execute_result"
    }
   ],
   "source": [
    "churn_df1=churn_df.copy()\n",
    "\n",
    "churn_df1.drop(['customerID'],axis=1,inplace=True)\n",
    "churn_df1.head()"
   ]
  },
  {
   "cell_type": "code",
   "execution_count": 21,
   "id": "67edb101",
   "metadata": {},
   "outputs": [
    {
     "data": {
      "text/plain": [
       "0"
      ]
     },
     "execution_count": 21,
     "metadata": {},
     "output_type": "execute_result"
    }
   ],
   "source": [
    "churn_df.duplicated().sum()"
   ]
  },
  {
   "cell_type": "code",
   "execution_count": 15,
   "id": "16f8273a",
   "metadata": {},
   "outputs": [
    {
     "data": {
      "text/plain": [
       "72"
      ]
     },
     "execution_count": 15,
     "metadata": {},
     "output_type": "execute_result"
    }
   ],
   "source": [
    "churn_df['tenure'].max() #The max tenure is 72 months or 6 years"
   ]
  },
  {
   "cell_type": "code",
   "execution_count": 16,
   "id": "a7c1b8fd",
   "metadata": {},
   "outputs": [],
   "source": [
    "# Group the tenures in bins of 12 months\n",
    "labels = [\"{0} - {1}\".format(i,i+11) for i in range (1,72,12)]\n",
    "churn_df['tenure_group'] = pd.cut(churn_df['tenure'], range(1,80,12), right=False, labels=labels)"
   ]
  },
  {
   "cell_type": "code",
   "execution_count": 17,
   "id": "e53665ca",
   "metadata": {},
   "outputs": [
    {
     "data": {
      "text/plain": [
       "tenure_group\n",
       "1 - 12     2175\n",
       "61 - 72    1407\n",
       "13 - 24    1024\n",
       "25 - 36     832\n",
       "49 - 60     832\n",
       "37 - 48     762\n",
       "Name: count, dtype: int64"
      ]
     },
     "execution_count": 17,
     "metadata": {},
     "output_type": "execute_result"
    }
   ],
   "source": [
    "churn_df['tenure_group'].value_counts()"
   ]
  },
  {
   "cell_type": "code",
   "execution_count": 18,
   "id": "dac882cd",
   "metadata": {},
   "outputs": [
    {
     "data": {
      "image/png": "[encoded data removed]",
      "text/plain": [
       "<Figure size 800x600 with 1 Axes>"
      ]
     },
     "metadata": {},
     "output_type": "display_data"
    }
   ],
   "source": [
    "sns.countplot(x='tenure_group', hue='Churn', data=churn_df, palette=['#ff9999', '#ff4d4d'])  # Pink and red colors\n",
    "plt.title('Tenure Group by Churn', fontsize=15)\n",
    "plt.show()\n"
   ]
  },
  {
   "cell_type": "markdown",
   "id": "f23614e7",
   "metadata": {},
   "source": [
    "Grouping customers by tenure showed that shorter tenure groups (less than 12 months) had higher churn rates. \n",
    "This finding implies that early-stage customers are more likely to leave, suggesting a need for improved onboarding and early engagement strategies."
   ]
  },
  {
   "cell_type": "code",
   "execution_count": 38,
   "id": "fa4178cb",
   "metadata": {},
   "outputs": [
    {
     "data": {
      "text/html": [
       "<div>\n",
       "<style scoped>\n",
       "    .dataframe tbody tr th:only-of-type {\n",
       "        vertical-align: middle;\n",
       "    }\n",
       "\n",
       "    .dataframe tbody tr th {\n",
       "        vertical-align: top;\n",
       "    }\n",
       "\n",
       "    .dataframe thead th {\n",
       "        text-align: right;\n",
       "    }\n",
       "</style>\n",
       "<table border=\"1\" class=\"dataframe\">\n",
       "  <thead>\n",
       "    <tr style=\"text-align: right;\">\n",
       "      <th></th>\n",
       "      <th>gender</th>\n",
       "      <th>SeniorCitizen</th>\n",
       "      <th>Partner</th>\n",
       "      <th>Dependents</th>\n",
       "      <th>PhoneService</th>\n",
       "      <th>MultipleLines</th>\n",
       "      <th>InternetService</th>\n",
       "      <th>OnlineSecurity</th>\n",
       "      <th>OnlineBackup</th>\n",
       "      <th>DeviceProtection</th>\n",
       "      <th>TechSupport</th>\n",
       "      <th>StreamingTV</th>\n",
       "      <th>StreamingMovies</th>\n",
       "      <th>Contract</th>\n",
       "      <th>PaperlessBilling</th>\n",
       "      <th>PaymentMethod</th>\n",
       "      <th>MonthlyCharges</th>\n",
       "      <th>TotalCharges</th>\n",
       "      <th>Churn</th>\n",
       "      <th>tenure_group</th>\n",
       "    </tr>\n",
       "  </thead>\n",
       "  <tbody>\n",
       "    <tr>\n",
       "      <th>0</th>\n",
       "      <td>Female</td>\n",
       "      <td>0</td>\n",
       "      <td>Yes</td>\n",
       "      <td>No</td>\n",
       "      <td>No</td>\n",
       "      <td>No phone service</td>\n",
       "      <td>DSL</td>\n",
       "      <td>No</td>\n",
       "      <td>Yes</td>\n",
       "      <td>No</td>\n",
       "      <td>No</td>\n",
       "      <td>No</td>\n",
       "      <td>No</td>\n",
       "      <td>Month-to-month</td>\n",
       "      <td>Yes</td>\n",
       "      <td>Electronic check</td>\n",
       "      <td>29.85</td>\n",
       "      <td>29.85</td>\n",
       "      <td>No</td>\n",
       "      <td>1 - 12</td>\n",
       "    </tr>\n",
       "    <tr>\n",
       "      <th>1</th>\n",
       "      <td>Male</td>\n",
       "      <td>0</td>\n",
       "      <td>No</td>\n",
       "      <td>No</td>\n",
       "      <td>Yes</td>\n",
       "      <td>No</td>\n",
       "      <td>DSL</td>\n",
       "      <td>Yes</td>\n",
       "      <td>No</td>\n",
       "      <td>Yes</td>\n",
       "      <td>No</td>\n",
       "      <td>No</td>\n",
       "      <td>No</td>\n",
       "      <td>One year</td>\n",
       "      <td>No</td>\n",
       "      <td>Mailed check</td>\n",
       "      <td>56.95</td>\n",
       "      <td>1889.50</td>\n",
       "      <td>No</td>\n",
       "      <td>25 - 36</td>\n",
       "    </tr>\n",
       "    <tr>\n",
       "      <th>2</th>\n",
       "      <td>Male</td>\n",
       "      <td>0</td>\n",
       "      <td>No</td>\n",
       "      <td>No</td>\n",
       "      <td>Yes</td>\n",
       "      <td>No</td>\n",
       "      <td>DSL</td>\n",
       "      <td>Yes</td>\n",
       "      <td>Yes</td>\n",
       "      <td>No</td>\n",
       "      <td>No</td>\n",
       "      <td>No</td>\n",
       "      <td>No</td>\n",
       "      <td>Month-to-month</td>\n",
       "      <td>Yes</td>\n",
       "      <td>Mailed check</td>\n",
       "      <td>53.85</td>\n",
       "      <td>108.15</td>\n",
       "      <td>Yes</td>\n",
       "      <td>1 - 12</td>\n",
       "    </tr>\n",
       "    <tr>\n",
       "      <th>3</th>\n",
       "      <td>Male</td>\n",
       "      <td>0</td>\n",
       "      <td>No</td>\n",
       "      <td>No</td>\n",
       "      <td>No</td>\n",
       "      <td>No phone service</td>\n",
       "      <td>DSL</td>\n",
       "      <td>Yes</td>\n",
       "      <td>No</td>\n",
       "      <td>Yes</td>\n",
       "      <td>Yes</td>\n",
       "      <td>No</td>\n",
       "      <td>No</td>\n",
       "      <td>One year</td>\n",
       "      <td>No</td>\n",
       "      <td>Bank transfer (automatic)</td>\n",
       "      <td>42.30</td>\n",
       "      <td>1840.75</td>\n",
       "      <td>No</td>\n",
       "      <td>37 - 48</td>\n",
       "    </tr>\n",
       "    <tr>\n",
       "      <th>4</th>\n",
       "      <td>Female</td>\n",
       "      <td>0</td>\n",
       "      <td>No</td>\n",
       "      <td>No</td>\n",
       "      <td>Yes</td>\n",
       "      <td>No</td>\n",
       "      <td>Fiber optic</td>\n",
       "      <td>No</td>\n",
       "      <td>No</td>\n",
       "      <td>No</td>\n",
       "      <td>No</td>\n",
       "      <td>No</td>\n",
       "      <td>No</td>\n",
       "      <td>Month-to-month</td>\n",
       "      <td>Yes</td>\n",
       "      <td>Electronic check</td>\n",
       "      <td>70.70</td>\n",
       "      <td>151.65</td>\n",
       "      <td>Yes</td>\n",
       "      <td>1 - 12</td>\n",
       "    </tr>\n",
       "  </tbody>\n",
       "</table>\n",
       "</div>"
      ],
      "text/plain": [
       "   gender  SeniorCitizen Partner Dependents PhoneService     MultipleLines  \\\n",
       "0  Female              0     Yes         No           No  No phone service   \n",
       "1    Male              0      No         No          Yes                No   \n",
       "2    Male              0      No         No          Yes                No   \n",
       "3    Male              0      No         No           No  No phone service   \n",
       "4  Female              0      No         No          Yes                No   \n",
       "\n",
       "  InternetService OnlineSecurity OnlineBackup DeviceProtection TechSupport  \\\n",
       "0             DSL             No          Yes               No          No   \n",
       "1             DSL            Yes           No              Yes          No   \n",
       "2             DSL            Yes          Yes               No          No   \n",
       "3             DSL            Yes           No              Yes         Yes   \n",
       "4     Fiber optic             No           No               No          No   \n",
       "\n",
       "  StreamingTV StreamingMovies        Contract PaperlessBilling  \\\n",
       "0          No              No  Month-to-month              Yes   \n",
       "1          No              No        One year               No   \n",
       "2          No              No  Month-to-month              Yes   \n",
       "3          No              No        One year               No   \n",
       "4          No              No  Month-to-month              Yes   \n",
       "\n",
       "               PaymentMethod  MonthlyCharges  TotalCharges Churn tenure_group  \n",
       "0           Electronic check           29.85         29.85    No       1 - 12  \n",
       "1               Mailed check           56.95       1889.50    No      25 - 36  \n",
       "2               Mailed check           53.85        108.15   Yes       1 - 12  \n",
       "3  Bank transfer (automatic)           42.30       1840.75    No      37 - 48  \n",
       "4           Electronic check           70.70        151.65   Yes       1 - 12  "
      ]
     },
     "execution_count": 38,
     "metadata": {},
     "output_type": "execute_result"
    }
   ],
   "source": [
    "churn_df.drop(['customerID','tenure'],axis=1,inplace=True)\n",
    "churn_df.head()"
   ]
  },
  {
   "cell_type": "markdown",
   "id": "91e62033",
   "metadata": {},
   "source": [
    "# Outlier Detection"
   ]
  },
  {
   "cell_type": "code",
   "execution_count": 39,
   "id": "b8783f71",
   "metadata": {},
   "outputs": [
    {
     "data": {
      "image/png": "[encoded data removed]",
      "text/plain": [
       "<Figure size 1200x600 with 1 Axes>"
      ]
     },
     "metadata": {},
     "output_type": "display_data"
    }
   ],
   "source": [
    "\n",
    "plt.figure(figsize=(12, 6))\n",
    "\n",
    "# Plot for 'MonthlyCharges' column, set the color to red\n",
    "plt.subplot(1, 2, 2)\n",
    "sns.boxplot(x=churn_df['MonthlyCharges'], color='#FF6961')\n",
    "plt.title('Boxplot of MonthlyCharges')\n",
    "\n",
    "# Show the plots\n",
    "plt.tight_layout()\n",
    "plt.show()\n"
   ]
  },
  {
   "cell_type": "markdown",
   "id": "3cbcb2e5",
   "metadata": {},
   "source": [
    "In a typical boxplot, outliers are represented as points outside the \"whiskers\" (the lines extending from the box). However, in this plot, there are no points outside the whiskers, suggesting that there are no extreme outliers in MonthlyCharges.Most customers have monthly charges between 40 and 90, with a few on the lower and higher ends.  This indicates a fairly consistent distribution of monthly charges across customers, without significant anomalies.In a typical boxplot, outliers are represented as points outside the \"whiskers\" (the lines extending from the box). However, in this plot, there are no points outside the whiskers, suggesting that there are no extreme outliers in MonthlyCharges. This indicates a fairly consistent distribution of monthly charges across customers, without significant anomalies."
   ]
  },
  {
   "cell_type": "markdown",
   "id": "b0c166a8",
   "metadata": {},
   "source": [
    "# Data Preprocessing"
   ]
  },
  {
   "cell_type": "markdown",
   "id": "2332e866",
   "metadata": {},
   "source": [
    "### One-hot encoding"
   ]
  },
  {
   "cell_type": "code",
   "execution_count": 41,
   "id": "aa6b6423",
   "metadata": {},
   "outputs": [],
   "source": [
    "# Converting binary columns to 0 and 1\n",
    "binary_cols = ['Partner', 'Dependents', 'PhoneService', 'PaperlessBilling', 'Churn']\n",
    "for col in binary_cols:\n",
    "    churn_df[col] = churn_df[col].apply(lambda x: 1 if x == 'Yes' else 0)\n",
    "\n"
   ]
  },
  {
   "cell_type": "markdown",
   "id": "3d8a083b",
   "metadata": {},
   "source": [
    "Columns like Partner, Dependents, PhoneService, PaperlessBilling, and Churn were encoded into binary values (0 and 1), allowing for easier model processing."
   ]
  },
  {
   "cell_type": "code",
   "execution_count": 42,
   "id": "92ae7673",
   "metadata": {},
   "outputs": [
    {
     "name": "stdout",
     "output_type": "stream",
     "text": [
      "   SeniorCitizen  Partner  Dependents  PhoneService  PaperlessBilling  \\\n",
      "0              0        1           0             0                 1   \n",
      "1              0        0           0             1                 0   \n",
      "2              0        0           0             1                 1   \n",
      "3              0        0           0             0                 0   \n",
      "4              0        0           0             1                 1   \n",
      "\n",
      "   MonthlyCharges  TotalCharges  Churn  gender_Male  \\\n",
      "0           29.85         29.85      0        False   \n",
      "1           56.95       1889.50      0         True   \n",
      "2           53.85        108.15      1         True   \n",
      "3           42.30       1840.75      0         True   \n",
      "4           70.70        151.65      1        False   \n",
      "\n",
      "   MultipleLines_No phone service  ...  Contract_One year  Contract_Two year  \\\n",
      "0                            True  ...              False              False   \n",
      "1                           False  ...               True              False   \n",
      "2                           False  ...              False              False   \n",
      "3                            True  ...               True              False   \n",
      "4                           False  ...              False              False   \n",
      "\n",
      "   PaymentMethod_Credit card (automatic)  PaymentMethod_Electronic check  \\\n",
      "0                                  False                            True   \n",
      "1                                  False                           False   \n",
      "2                                  False                           False   \n",
      "3                                  False                           False   \n",
      "4                                  False                            True   \n",
      "\n",
      "   PaymentMethod_Mailed check  tenure_group_13 - 24  tenure_group_25 - 36  \\\n",
      "0                       False                 False                 False   \n",
      "1                        True                 False                  True   \n",
      "2                        True                 False                 False   \n",
      "3                       False                 False                 False   \n",
      "4                       False                 False                 False   \n",
      "\n",
      "   tenure_group_37 - 48  tenure_group_49 - 60  tenure_group_61 - 72  \n",
      "0                 False                 False                 False  \n",
      "1                 False                 False                 False  \n",
      "2                 False                 False                 False  \n",
      "3                  True                 False                 False  \n",
      "4                 False                 False                 False  \n",
      "\n",
      "[5 rows x 35 columns]\n"
     ]
    }
   ],
   "source": [
    "\n",
    "# One-hot encode categorical features\n",
    "churn_df = pd.get_dummies(churn_df, drop_first=True)\n",
    "\n",
    "print(churn_df.head())  # Verify the changes"
   ]
  },
  {
   "cell_type": "markdown",
   "id": "bfcf01c2",
   "metadata": {},
   "source": [
    "# Data Correlation"
   ]
  },
  {
   "cell_type": "code",
   "execution_count": 51,
   "id": "a84836a5",
   "metadata": {},
   "outputs": [
    {
     "data": {
      "image/png": "[encoded data removed]",
      "text/plain": [
       "<Figure size 1000x800 with 2 Axes>"
      ]
     },
     "metadata": {},
     "output_type": "display_data"
    }
   ],
   "source": [
    "# Selecting numeric columns for correlation\n",
    "numeric_df = churn_df.select_dtypes(include=['float64', 'int64'])\n",
    "pink_cmap = LinearSegmentedColormap.from_list('custom_pink', ['#ffe6f0', '#ffb3c6', '#ff80a0', '#ff4d73', '#FF6961'])\n",
    "# Create a correlation heatmap\n",
    "plt.figure(figsize=(10, 8))\n",
    "sns.heatmap(numeric_df.corr(), annot=True, cmap=pink_cmap, fmt=\".2f\")\n",
    "plt.title('Correlation Heatmap')\n",
    "plt.show()"
   ]
  },
  {
   "cell_type": "markdown",
   "id": "a3427ca6",
   "metadata": {},
   "source": [
    "MonthlyCharges and TotalCharges displayed a strong correlation, as expected. These financial attributes are linked, reflecting the cumulative charges for each customer.\n",
    "\n",
    "A moderate negative correlation was observed between tenure and churn, supporting the initial EDA finding that long-term customers have a lower likelihood of churning."
   ]
  },
  {
   "cell_type": "markdown",
   "id": "b88f6d85",
   "metadata": {},
   "source": [
    "# EDA"
   ]
  },
  {
   "cell_type": "code",
   "execution_count": 61,
   "id": "b6d439e8",
   "metadata": {},
   "outputs": [],
   "source": [
    "#Split the data into features (X) and target (y)\n",
    "X = churn_df.drop('Churn', axis=1)\n",
    "y = churn_df['Churn']\n",
    "\n",
    "# Split the data into training and test sets\n",
    "X_train, X_test, y_train, y_test = train_test_split(X, y, test_size=0.3, random_state=42)\n"
   ]
  },
  {
   "cell_type": "code",
   "execution_count": 62,
   "id": "9157c61a",
   "metadata": {},
   "outputs": [
    {
     "name": "stdout",
     "output_type": "stream",
     "text": [
      "Before OverSampling- counts of label '1': 1308\n",
      "Before OverSampling- counts of label '0': 3614 \n",
      "\n"
     ]
    }
   ],
   "source": [
    "print(\"Before OverSampling- counts of label '1': {}\".format(sum(y_train==1)))\n",
    "print(\"Before OverSampling- counts of label '0': {} \\n\".format(sum(y_train==0)))"
   ]
  },
  {
   "cell_type": "markdown",
   "id": "b25c5c66",
   "metadata": {},
   "source": [
    "# Applying SMOTEENN- Handle Class Imbalance"
   ]
  },
  {
   "cell_type": "code",
   "execution_count": 78,
   "id": "2f260277",
   "metadata": {},
   "outputs": [
    {
     "name": "stdout",
     "output_type": "stream",
     "text": [
      "After OverSampling with SMOTEENN - '1': 3048\n",
      "After OverSampling with SMOTEENN - '0': 2154\n"
     ]
    }
   ],
   "source": [
    "sm = SMOTEENN()\n",
    "X_resample, y_resample = sm.fit_resample(X_train,y_train)\n",
    "\n",
    "print(\"After OverSampling with SMOTEENN - '1': {}\".format(sum(y_resampled==1)))\n",
    "print(\"After OverSampling with SMOTEENN - '0': {}\".format(sum(y_resampled==0)))"
   ]
  },
  {
   "cell_type": "markdown",
   "id": "5badc2a5",
   "metadata": {},
   "source": [
    "Churn data is typically imbalanced, with fewer churned than retained customers. To address this, the SMOTEENN technique was applied, combining over-sampling of the minority class with under-sampling of the majority class, balancing the dataset and improving model performance."
   ]
  },
  {
   "cell_type": "code",
   "execution_count": 79,
   "id": "6a1bbe51",
   "metadata": {},
   "outputs": [],
   "source": [
    "def print_report(model,X_test,y_test,y_pred):\n",
    "    \"\"\"\n",
    "    returns the model score, confusion matrix and classfication report\n",
    "    \"\"\"\n",
    "    print(\"Model Score : {} \\n \".format(model.score(X_test, y_test)))\n",
    "    print(\"Confusion Matrix : \\n {}\\n\".format(confusion_matrix(y_test,y_pred)))\n",
    "    print(\"Accuracy : {}\".format( round(accuracy_score(y_test, y_pred)*100, 2)))\n",
    "    print(\"Classification report : \\n\\n\"+classification_report(y_test, y_pred, labels=[0,1]))\n",
    "    "
   ]
  },
  {
   "cell_type": "markdown",
   "id": "5e00c99b",
   "metadata": {},
   "source": [
    "# Model Building"
   ]
  },
  {
   "cell_type": "markdown",
   "id": "b7c25cc8",
   "metadata": {},
   "source": [
    "# Logistic Regression"
   ]
  },
  {
   "cell_type": "code",
   "execution_count": 80,
   "id": "bce8c3aa",
   "metadata": {},
   "outputs": [
    {
     "name": "stdout",
     "output_type": "stream",
     "text": [
      "Model Score : 0.775408670931059 \n",
      " \n",
      "Confusion Matrix : \n",
      " [[899 110]\n",
      " [206 192]]\n",
      "\n",
      "Accuracy : 77.54\n",
      "Classification report : \n",
      "\n",
      "              precision    recall  f1-score   support\n",
      "\n",
      "           0       0.81      0.89      0.85      1009\n",
      "           1       0.64      0.48      0.55       398\n",
      "\n",
      "    accuracy                           0.78      1407\n",
      "   macro avg       0.72      0.69      0.70      1407\n",
      "weighted avg       0.76      0.78      0.77      1407\n",
      "\n"
     ]
    }
   ],
   "source": [
    "from sklearn.preprocessing import MinMaxScaler\n",
    "from sklearn.linear_model import LogisticRegression\n",
    "\n",
    "# Using MinMaxScaler to scale the variables in logistic regression so that all of them are within a range of 0 to 1\n",
    "X_train, X_test, y_train, y_test = train_test_split(X, y, test_size=0.2, random_state=11)\n",
    "features = X.columns.values\n",
    "scaler = MinMaxScaler(feature_range = (0,1))\n",
    "scaler.fit(X)\n",
    "X = pd.DataFrame(scaler.transform(X))\n",
    "X.columns = features\n",
    "\n",
    "\n",
    "#Model fitting\n",
    "model_lr = LogisticRegression(solver='lbfgs',max_iter=1000)\n",
    "model_lr.fit(X_train, y_train)\n",
    "\n",
    "y_pred = model_lr.predict(X_test)\n",
    "print_report(model_lr,X_test,y_test,y_pred)\n",
    "lr = round(accuracy_score(y_test, y_pred)*100, 2)"
   ]
  },
  {
   "cell_type": "code",
   "execution_count": 82,
   "id": "f3513cbb",
   "metadata": {},
   "outputs": [
    {
     "name": "stdout",
     "output_type": "stream",
     "text": [
      "Model Score : 0.9144230769230769 \n",
      " \n",
      "Confusion Matrix : \n",
      " [[390  48]\n",
      " [ 41 561]]\n",
      "\n",
      "Accuracy : 91.44\n",
      "Classification report : \n",
      "\n",
      "              precision    recall  f1-score   support\n",
      "\n",
      "           0       0.90      0.89      0.90       438\n",
      "           1       0.92      0.93      0.93       602\n",
      "\n",
      "    accuracy                           0.91      1040\n",
      "   macro avg       0.91      0.91      0.91      1040\n",
      "weighted avg       0.91      0.91      0.91      1040\n",
      "\n"
     ]
    }
   ],
   "source": [
    "sm = SMOTEENN()\n",
    "\n",
    "X_resampled, y_resampled = sm.fit_resample(X_train,y_train)\n",
    "Xr_train,Xr_test,yr_train,yr_test = train_test_split(X_resampled, y_resampled,test_size=0.2)\n",
    "\n",
    "model_lr_smote = LogisticRegression(solver='lbfgs',max_iter=1000)\n",
    "model_lr_smote.fit(Xr_train,yr_train)\n",
    "\n",
    "yr_pred = model_lr_smote.predict(Xr_test)\n",
    "print_report(model_lr_smote,Xr_test,yr_test,yr_pred)\n",
    "lr_smote = round(accuracy_score(yr_test, yr_pred)*100, 2)"
   ]
  },
  {
   "cell_type": "markdown",
   "id": "a9f0becd",
   "metadata": {},
   "source": [
    "# Random Forest"
   ]
  },
  {
   "cell_type": "code",
   "execution_count": 75,
   "id": "0d1b28c6",
   "metadata": {},
   "outputs": [
    {
     "name": "stdout",
     "output_type": "stream",
     "text": [
      "Model Score : 0.7455579246624022 \n",
      " \n",
      "Confusion Matrix : \n",
      " [[991  18]\n",
      " [340  58]]\n",
      "\n",
      "Accuracy : 74.56\n",
      "Classification report : \n",
      "\n",
      "              precision    recall  f1-score   support\n",
      "\n",
      "           0       0.74      0.98      0.85      1009\n",
      "           1       0.76      0.15      0.24       398\n",
      "\n",
      "    accuracy                           0.75      1407\n",
      "   macro avg       0.75      0.56      0.55      1407\n",
      "weighted avg       0.75      0.75      0.68      1407\n",
      "\n"
     ]
    }
   ],
   "source": [
    "X_train, X_test, y_train, y_test = train_test_split(X, y, test_size=0.2, random_state=11)\n",
    "model_rf=RandomForestClassifier(n_estimators=200, criterion='gini',max_depth=3, min_samples_leaf=2)\n",
    "model_rf.fit(X_train,y_train)\n",
    "y_pred = model_rf.predict(X_test)\n",
    "print_report(model_rf,X_test,y_test,y_pred)\n",
    "rf = round(accuracy_score(y_test, y_pred)*100, 2)"
   ]
  },
  {
   "cell_type": "code",
   "execution_count": 83,
   "id": "38d4923c",
   "metadata": {},
   "outputs": [
    {
     "name": "stdout",
     "output_type": "stream",
     "text": [
      "Model Score : 0.9080459770114943 \n",
      " \n",
      "Confusion Matrix : \n",
      " [[361  58]\n",
      " [ 38 587]]\n",
      "\n",
      "Accuracy : 90.8\n",
      "Classification report : \n",
      "\n",
      "              precision    recall  f1-score   support\n",
      "\n",
      "           0       0.90      0.86      0.88       419\n",
      "           1       0.91      0.94      0.92       625\n",
      "\n",
      "    accuracy                           0.91      1044\n",
      "   macro avg       0.91      0.90      0.90      1044\n",
      "weighted avg       0.91      0.91      0.91      1044\n",
      "\n"
     ]
    }
   ],
   "source": [
    "sm = SMOTEENN()\n",
    "\n",
    "X_resample, y_resample = sm.fit_resample(X_train,y_train)\n",
    "Xr_train,Xr_test,yr_train,yr_test = train_test_split(X_resample, y_resample,test_size=0.2)\n",
    "model_rf_smote=RandomForestClassifier(n_estimators=200, criterion='gini', random_state = 100,max_depth=4, min_samples_leaf=8)\n",
    "\n",
    "model_rf_smote.fit(Xr_train,yr_train)\n",
    "yr_pred = model_rf_smote.predict(Xr_test)\n",
    "\n",
    "print_report(model_rf_smote,Xr_test,yr_test,yr_pred)\n",
    "rf_smote = round(accuracy_score(yr_test, yr_pred)*100, 2)"
   ]
  },
  {
   "cell_type": "markdown",
   "id": "cbd7c477",
   "metadata": {},
   "source": [
    "# PCA"
   ]
  },
  {
   "cell_type": "code",
   "execution_count": 84,
   "id": "c6809461",
   "metadata": {},
   "outputs": [
    {
     "name": "stdout",
     "output_type": "stream",
     "text": [
      "Model Score : 0.7484008528784648 \n",
      " \n",
      "Confusion Matrix : \n",
      " [[969  40]\n",
      " [314  84]]\n",
      "\n",
      "Accuracy : 74.84\n",
      "Classification report : \n",
      "\n",
      "              precision    recall  f1-score   support\n",
      "\n",
      "           0       0.76      0.96      0.85      1009\n",
      "           1       0.68      0.21      0.32       398\n",
      "\n",
      "    accuracy                           0.75      1407\n",
      "   macro avg       0.72      0.59      0.58      1407\n",
      "weighted avg       0.73      0.75      0.70      1407\n",
      "\n"
     ]
    }
   ],
   "source": [
    "# Applying PCA\n",
    "from sklearn.decomposition import PCA\n",
    "pcas = PCA(0.9)\n",
    "X_train, X_test, y_train, y_test = train_test_split(X, y, test_size=0.2, random_state=11)\n",
    "\n",
    "X_train_pca = pcas.fit_transform(X_train)\n",
    "X_test_pca = pcas.transform(X_test)\n",
    "model_pca=RandomForestClassifier(n_estimators=100, criterion='gini', random_state = 100, max_depth=4, min_samples_leaf=8)\n",
    "model_pca.fit(X_train_pca,y_train)\n",
    "\n",
    "y_pred_pca = model_pca.predict(X_test_pca)\n",
    "\n",
    "print_report(model_pca,X_test_pca,y_test,y_pred_pca)\n",
    "pca = round(accuracy_score(y_test, y_pred_pca)*100, 2)"
   ]
  },
  {
   "cell_type": "code",
   "execution_count": 85,
   "id": "1725223d",
   "metadata": {},
   "outputs": [
    {
     "name": "stdout",
     "output_type": "stream",
     "text": [
      "Model Score : 0.9164237123420796 \n",
      " \n",
      "Confusion Matrix : \n",
      " [[382  50]\n",
      " [ 36 561]]\n",
      "\n",
      "Accuracy : 91.64\n",
      "Classification report : \n",
      "\n",
      "              precision    recall  f1-score   support\n",
      "\n",
      "           0       0.91      0.88      0.90       432\n",
      "           1       0.92      0.94      0.93       597\n",
      "\n",
      "    accuracy                           0.92      1029\n",
      "   macro avg       0.92      0.91      0.91      1029\n",
      "weighted avg       0.92      0.92      0.92      1029\n",
      "\n"
     ]
    }
   ],
   "source": [
    "sm = SMOTEENN()\n",
    "X_resample, y_resample = sm.fit_resample(X_train,y_train)\n",
    "Xr_train, Xr_test, yr_train, yr_test=train_test_split(X_resample, y_resample,test_size=0.2)\n",
    "pcas = PCA(0.9)\n",
    "\n",
    "Xr_train_pca = pcas.fit_transform(Xr_train)\n",
    "Xr_test_pca = pcas.transform(Xr_test)\n",
    "model_pca_smote=RandomForestClassifier(n_estimators=100, criterion='gini', random_state = 100, max_depth=6, min_samples_leaf=8)\n",
    "model_pca_smote.fit(Xr_train_pca,yr_train)\n",
    "\n",
    "yr_pred_pca = model_pca_smote.predict(Xr_test_pca)\n",
    "\n",
    "print_report(model_pca_smote,Xr_test_pca,yr_test,yr_pred_pca)\n",
    "pca_smote = round(accuracy_score(yr_test, yr_pred_pca)*100, 2)"
   ]
  },
  {
   "cell_type": "markdown",
   "id": "187d47cf",
   "metadata": {},
   "source": [
    "# AdaBoost"
   ]
  },
  {
   "cell_type": "code",
   "execution_count": 86,
   "id": "6e785d92",
   "metadata": {},
   "outputs": [
    {
     "name": "stdout",
     "output_type": "stream",
     "text": [
      "Model Score : 0.7931769722814499 \n",
      " \n",
      "Confusion Matrix : \n",
      " [[933 100]\n",
      " [191 183]]\n",
      "\n",
      "Accuracy : 79.32\n",
      "Classification report : \n",
      "\n",
      "              precision    recall  f1-score   support\n",
      "\n",
      "           0       0.83      0.90      0.87      1033\n",
      "           1       0.65      0.49      0.56       374\n",
      "\n",
      "    accuracy                           0.79      1407\n",
      "   macro avg       0.74      0.70      0.71      1407\n",
      "weighted avg       0.78      0.79      0.78      1407\n",
      "\n"
     ]
    }
   ],
   "source": [
    "X_train, X_test, y_train, y_test = train_test_split(X, y, test_size=0.2, random_state=42)\n",
    "model_ada = AdaBoostClassifier(n_estimators=200, learning_rate=0.2, algorithm='SAMME.R')\n",
    "\n",
    "model_ada.fit(X_train, y_train)\n",
    "y_pred = model_ada.predict(X_test)\n",
    "\n",
    "print_report(model_ada,X_test,y_test,y_pred)\n",
    "ada = round(accuracy_score(y_test, y_pred)*100, 2)"
   ]
  },
  {
   "cell_type": "code",
   "execution_count": 87,
   "id": "ef8f9b0e",
   "metadata": {},
   "outputs": [
    {
     "name": "stdout",
     "output_type": "stream",
     "text": [
      "Model Score : 0.9237623762376238 \n",
      " \n",
      "Confusion Matrix : \n",
      " [[408  50]\n",
      " [ 27 525]]\n",
      "\n",
      "Accuracy : 92.38\n",
      "Classification report : \n",
      "\n",
      "              precision    recall  f1-score   support\n",
      "\n",
      "           0       0.94      0.89      0.91       458\n",
      "           1       0.91      0.95      0.93       552\n",
      "\n",
      "    accuracy                           0.92      1010\n",
      "   macro avg       0.93      0.92      0.92      1010\n",
      "weighted avg       0.92      0.92      0.92      1010\n",
      "\n"
     ]
    }
   ],
   "source": [
    "sm = SMOTEENN()\n",
    "X_resample, y_resample = sm.fit_resample(X_train,y_train)\n",
    "Xr_train,Xr_test,yr_train,yr_test = train_test_split(X_resample, y_resample,test_size=0.2)\n",
    "\n",
    "model_ada_smote = AdaBoostClassifier(n_estimators=200, learning_rate=0.2, algorithm='SAMME')\n",
    "model_ada_smote.fit(Xr_train, yr_train)\n",
    "\n",
    "yr_pred = model_ada_smote.predict(Xr_test)\n",
    "print_report(model_ada_smote,Xr_test,yr_test,yr_pred)\n",
    "ada_smote = round(accuracy_score(yr_test, yr_pred)*100, 2)"
   ]
  },
  {
   "cell_type": "markdown",
   "id": "a510c098",
   "metadata": {},
   "source": [
    "# XGBoost"
   ]
  },
  {
   "cell_type": "code",
   "execution_count": 88,
   "id": "deeaaf35",
   "metadata": {},
   "outputs": [
    {
     "name": "stdout",
     "output_type": "stream",
     "text": [
      "Model Score : 0.7761194029850746 \n",
      " \n",
      "Confusion Matrix : \n",
      " [[889 120]\n",
      " [195 203]]\n",
      "\n",
      "Accuracy : 77.61\n",
      "Classification report : \n",
      "\n",
      "              precision    recall  f1-score   support\n",
      "\n",
      "           0       0.82      0.88      0.85      1009\n",
      "           1       0.63      0.51      0.56       398\n",
      "\n",
      "    accuracy                           0.78      1407\n",
      "   macro avg       0.72      0.70      0.71      1407\n",
      "weighted avg       0.77      0.78      0.77      1407\n",
      "\n"
     ]
    }
   ],
   "source": [
    "from xgboost import XGBClassifier\n",
    "X_train, X_test, y_train, y_test = train_test_split(X, y, test_size=0.2, random_state=11)\n",
    "model_xgb = XGBClassifier(n_estimators=200,max_depth=3)\n",
    "model_xgb.fit(X_train, y_train)\n",
    "y_pred = model_xgb.predict(X_test)\n",
    "\n",
    "print_report(model_xgb,X_test,y_test,y_pred)\n",
    "xgb = round(accuracy_score(y_test, y_pred)*100, 2)"
   ]
  },
  {
   "cell_type": "code",
   "execution_count": 89,
   "id": "b96b4668",
   "metadata": {},
   "outputs": [
    {
     "name": "stdout",
     "output_type": "stream",
     "text": [
      "Model Score : 0.9605009633911368 \n",
      " \n",
      "Confusion Matrix : \n",
      " [[424  16]\n",
      " [ 25 573]]\n",
      "\n",
      "Accuracy : 96.05\n",
      "Classification report : \n",
      "\n",
      "              precision    recall  f1-score   support\n",
      "\n",
      "           0       0.94      0.96      0.95       440\n",
      "           1       0.97      0.96      0.97       598\n",
      "\n",
      "    accuracy                           0.96      1038\n",
      "   macro avg       0.96      0.96      0.96      1038\n",
      "weighted avg       0.96      0.96      0.96      1038\n",
      "\n"
     ]
    }
   ],
   "source": [
    "sm = SMOTEENN()\n",
    "X_resample, y_resample = sm.fit_resample(X_train,y_train)\n",
    "Xr_train,Xr_test,yr_train,yr_test = train_test_split(X_resample, y_resample,test_size=0.2)\n",
    "\n",
    "model_xgb_smote= XGBClassifier(n_estimators=200,max_depth=3)\n",
    "model_xgb_smote.fit(Xr_train, yr_train)\n",
    "yr_pred = model_xgb_smote.predict(Xr_test)\n",
    "\n",
    "print_report(model_xgb_smote,Xr_test,yr_test,yr_pred)\n",
    "xgb_smote = round(accuracy_score(yr_test, yr_pred)*100, 2)"
   ]
  },
  {
   "cell_type": "markdown",
   "id": "3a601117",
   "metadata": {},
   "source": [
    "# Best Performing Model"
   ]
  },
  {
   "cell_type": "code",
   "execution_count": 107,
   "id": "d2304a8f",
   "metadata": {},
   "outputs": [
    {
     "data": {
      "image/png": "[encoded data removed]",
      "text/plain": [
       "<Figure size 800x600 with 1 Axes>"
      ]
     },
     "metadata": {},
     "output_type": "display_data"
    },
    {
     "name": "stdout",
     "output_type": "stream",
     "text": [
      "                 Model  Accuracy_score  Smote_Accuracy_score\n",
      "0              XGBoost           77.61                 96.28\n",
      "1        Random forest           74.56                 94.36\n",
      "2             AdaBoost           79.32                 92.38\n",
      "3                  PCA           74.84                 91.64\n",
      "4  Logistic Regression           77.54                 91.44\n"
     ]
    }
   ],
   "source": [
    "\n",
    "# Define a custom pastel pink-red color palette\n",
    "pastel_pink_red_palette = sns.color_palette([\"#ffcccc\", \"#ff9999\", \"#ff6666\", \"#ff4d4d\", \"#ff1a1a\"])\n",
    "\n",
    "# Create the DataFrame (example values for demonstration)\n",
    "models = pd.DataFrame({\n",
    "    'Model': ['Random forest', 'Logistic Regression', 'PCA', 'AdaBoost', 'XGBoost'],\n",
    "    'Accuracy_score': [rf, lr, pca, ada, xgb],\n",
    "    'Smote_Accuracy_score': [rf_smote, lr_smote, pca_smote, ada_smote, xgb_smote]\n",
    "})\n",
    "\n",
    "# Plot the barplot with the custom pastel palette\n",
    "sns.barplot(x='Smote_Accuracy_score', y='Model', palette=pastel_pink_red_palette,\n",
    "            data=models.sort_values(by='Smote_Accuracy_score', ascending=False, ignore_index=True))\n",
    "\n",
    "# Display the plot\n",
    "plt.title('Model Performance with SMOTE (Shades of Pink-Red Pastels)')\n",
    "plt.show()\n",
    "\n",
    "# Optionally, display the sorted DataFrame\n",
    "models_sorted = models.sort_values(by='Smote_Accuracy_score', ascending=False, ignore_index=True)\n",
    "print(models_sorted)\n"
   ]
  },
  {
   "cell_type": "markdown",
   "id": "71479b75",
   "metadata": {},
   "source": [
    "### Model Comparisons:\n",
    "\n",
    "Several models were tested for accuracy, recall, and other metrics, comparing baseline results with SMOTE-enhanced data. Key models included:\n",
    "\n",
    "Logistic Regression: As a baseline model, logistic regression offered interpretability and established initial performance metrics. With SMOTE, its accuracy improved, although it performed moderately compared to other models.\n",
    "\n",
    "Random Forest: This ensemble method provided robustness and feature importance insights. The model improved in accuracy with SMOTE, performing well in detecting churn.\n",
    "\n",
    "AdaBoost: As a boosting algorithm, AdaBoost achieved reasonable accuracy but was sensitive to parameter changes. With SMOTE, it showed good recall, indicating its capability in handling imbalanced data.\n",
    "\n",
    "XGBoost: After hyperparameter tuning, XGBoost emerged as one of the best models with high accuracy and AUC scores, proving effective at handling complex relationships and imbalances in the data."
   ]
  },
  {
   "cell_type": "markdown",
   "id": "599bf475",
   "metadata": {},
   "source": [
    "# Hyperparameter Tuning"
   ]
  },
  {
   "cell_type": "code",
   "execution_count": 94,
   "id": "82080105",
   "metadata": {},
   "outputs": [
    {
     "name": "stdout",
     "output_type": "stream",
     "text": [
      "Fitting 3 folds for each of 10 candidates, totalling 30 fits\n",
      "Best Parameters found:  {'subsample': 0.8, 'n_estimators': 300, 'min_child_weight': 1, 'max_depth': 5, 'learning_rate': 0.1, 'gamma': 0.1, 'colsample_bytree': 0.6}\n"
     ]
    }
   ],
   "source": [
    "from xgboost import XGBClassifier\n",
    "from sklearn.model_selection import RandomizedSearchCV\n",
    "from sklearn.metrics import accuracy_score, classification_report\n",
    "\n",
    "# Define hyperparameters to tune\n",
    "param_grid = {\n",
    "    'n_estimators': [100, 200, 300],               # Number of trees in the forest\n",
    "    'max_depth': [3, 5, 7, 10],                    # Maximum depth of each tree\n",
    "    'learning_rate': [0.01, 0.1, 0.2],             # Learning rate\n",
    "    'subsample': [0.6, 0.8, 1.0],                  # Fraction of samples used for fitting\n",
    "    'colsample_bytree': [0.6, 0.8, 1.0],           # Fraction of features used per tree\n",
    "    'gamma': [0, 0.1, 0.2],                        # Regularization parameter\n",
    "    'min_child_weight': [1, 3, 5],                 # Minimum sum of instance weight (hessian) needed in a child\n",
    "}\n",
    "\n",
    "# Initialize the XGBoost classifier\n",
    "model_xgb_smote = XGBClassifier()\n",
    "\n",
    "# Perform RandomizedSearchCV\n",
    "random_search = RandomizedSearchCV(estimator=model_xgb_smote, param_distributions=param_grid,\n",
    "                                   n_iter=10, scoring='accuracy', cv=3, verbose=2, random_state=42, n_jobs=-1)\n",
    "\n",
    "# Fit the model with the resampled data (SMOTEENN)\n",
    "random_search.fit(Xr_train, yr_train)\n",
    "\n",
    "# Best parameters\n",
    "print(\"Best Parameters found: \", random_search.best_params_)"
   ]
  },
  {
   "cell_type": "markdown",
   "id": "77b8bc16",
   "metadata": {},
   "source": [
    "Hyperparameter tuning was performed for XGBoost using RandomizedSearchCV, optimizing parameters like n_estimators, max_depth, learning_rate, and subsample. \n",
    "\n",
    "This tuning further improved XGBoost’s accuracy and recall, enhancing its ability to identify churned customers accurately."
   ]
  },
  {
   "cell_type": "markdown",
   "id": "31e78ad1",
   "metadata": {},
   "source": [
    "# XGBoost after Hyperparameter tuning"
   ]
  },
  {
   "cell_type": "code",
   "execution_count": 98,
   "id": "b2fcaecb",
   "metadata": {},
   "outputs": [
    {
     "name": "stdout",
     "output_type": "stream",
     "text": [
      "Model Score : 0.9627862595419847 \n",
      " \n",
      "Confusion Matrix : \n",
      " [[418  16]\n",
      " [ 23 591]]\n",
      "\n",
      "Accuracy : 96.28\n",
      "Classification report : \n",
      "\n",
      "              precision    recall  f1-score   support\n",
      "\n",
      "           0       0.95      0.96      0.96       434\n",
      "           1       0.97      0.96      0.97       614\n",
      "\n",
      "    accuracy                           0.96      1048\n",
      "   macro avg       0.96      0.96      0.96      1048\n",
      "weighted avg       0.96      0.96      0.96      1048\n",
      "\n"
     ]
    }
   ],
   "source": [
    "sm = SMOTEENN()\n",
    "X_resample, y_resample = sm.fit_resample(X_train,y_train)\n",
    "Xr_train,Xr_test,yr_train,yr_test = train_test_split(X_resample, y_resample,test_size=0.2)\n",
    "\n",
    "model_xgb_smote = XGBClassifier(subsample=0.8, \n",
    "                                n_estimators=300, \n",
    "                                min_child_weight=1, \n",
    "                                max_depth=5, \n",
    "                                learning_rate=0.1, \n",
    "                                gamma=0.1, \n",
    "                                colsample_bytree=0.6)\n",
    "model_xgb_smote.fit(Xr_train, yr_train)\n",
    "yr_pred = model_xgb_smote.predict(Xr_test)\n",
    "\n",
    "print_report(model_xgb_smote,Xr_test,yr_test,yr_pred)\n",
    "xgb_smote = round(accuracy_score(yr_test, yr_pred)*100, 2)"
   ]
  },
  {
   "cell_type": "markdown",
   "id": "51da9914",
   "metadata": {},
   "source": [
    "# Model Evaluation (AUC Score, ROC Curve)"
   ]
  },
  {
   "cell_type": "code",
   "execution_count": 101,
   "id": "3ea03ade",
   "metadata": {},
   "outputs": [
    {
     "name": "stdout",
     "output_type": "stream",
     "text": [
      "XGBoost AUC Score: 0.9949751572374248\n"
     ]
    },
    {
     "data": {
      "image/png": "[encoded data removed]",
      "text/plain": [
       "<Figure size 800x600 with 1 Axes>"
      ]
     },
     "metadata": {},
     "output_type": "display_data"
    }
   ],
   "source": [
    "from sklearn.metrics import roc_auc_score, roc_curve\n",
    "import matplotlib.pyplot as plt\n",
    "\n",
    "# Calculate AUC Score for XGBoost model\n",
    "y_pred_proba = model_xgb_smote.predict_proba(Xr_test)[:, 1]  # Probabilities of the positive class\n",
    "auc_score = roc_auc_score(yr_test, y_pred_proba)\n",
    "print(f\"XGBoost AUC Score: {auc_score}\")\n",
    "\n",
    "# Plot ROC Curve for XGBoost model\n",
    "fpr, tpr, _ = roc_curve(yr_test, y_pred_proba)\n",
    "plt.figure(figsize=(8, 6))\n",
    "plt.plot(fpr, tpr, label=f\"AUC = {auc_score:.2f}\", color='blue')\n",
    "plt.xlabel('False Positive Rate')\n",
    "plt.ylabel('True Positive Rate')\n",
    "plt.title('ROC Curve for XGBoost')\n",
    "plt.legend(loc='lower right')\n",
    "plt.show()\n"
   ]
  },
  {
   "cell_type": "markdown",
   "id": "5d87b133",
   "metadata": {},
   "source": [
    "The ROC curve for XGBoost displayed an AUC score, signifying its ability to separate churned from non-churned customers effectively.\n",
    "\n",
    "An AUC closer to 1 indicates excellent model performance, and XGBoost’s tuned model performed best in this metric, making it an ideal choice for deployment."
   ]
  },
  {
   "cell_type": "markdown",
   "id": "dd4ec882",
   "metadata": {},
   "source": [
    "# Feature Importance"
   ]
  },
  {
   "cell_type": "code",
   "execution_count": 105,
   "id": "0628e7fa",
   "metadata": {},
   "outputs": [
    {
     "data": {
      "image/png": "[encoded data removed]",
      "text/plain": [
       "<Figure size 1000x600 with 1 Axes>"
      ]
     },
     "metadata": {},
     "output_type": "display_data"
    }
   ],
   "source": [
    "\n",
    "# Get feature importances from the XGBoost model\n",
    "importances = model_xgb_smote.feature_importances_\n",
    "\n",
    "# Get the feature names (assuming you used the X dataset with named columns)\n",
    "features = X.columns\n",
    "\n",
    "# Sort the features by importance\n",
    "indices = np.argsort(importances)\n",
    "\n",
    "# Plot the feature importance\n",
    "plt.figure(figsize=(10, 6))\n",
    "plt.title(\"XGBoost Feature Importance\")\n",
    "plt.barh(range(len(indices)), importances[indices], color='r', align=\"center\")\n",
    "plt.yticks(range(len(indices)), [features[i] for i in indices])\n",
    "plt.xlabel('Relative Importance')\n",
    "plt.show()\n"
   ]
  },
  {
   "cell_type": "markdown",
   "id": "b7478e9f",
   "metadata": {},
   "source": [
    "Top Predictors: Features like Contract, MonthlyCharges, TotalCharges, and tenure were among the most important. This insight validates earlier findings, confirming that contract type and monthly charges are significant churn predictors.\n",
    "\n",
    "\n",
    "Service Features: Features such as OnlineSecurity, TechSupport, and StreamingTV also showed importance, reinforcing the idea that bundled services contribute to customer retention."
   ]
  },
  {
   "cell_type": "markdown",
   "id": "5f582e45",
   "metadata": {},
   "source": [
    "## Conclusion\n",
    "\n",
    "\n",
    "This comprehensive churn analysis demonstrates the power of data-driven insights and machine learning models in predicting and understanding churn. By focusing on tenure, contract type, and service usage, telecom companies and similar industries can make informed, targeted efforts to reduce churn and boost customer loyalty. The business impact of churn prediction is substantial, as retention strategies derived from these models can lead to long-term revenue growth and customer satisfaction. \n",
    "\n",
    "Through model comparisons, XGBoost emerged as the top-performing model due to its high accuracy, recall, and AUC scores, particularly after hyperparameter tuning and applying SMOTEENN for class balancing. Its robust handling of complex data patterns and superior predictive power make it an ideal choice for deployment in a real-world setting."
   ]
  }
 ],
 "metadata": {
  "kernelspec": {
   "display_name": "Python 3 (ipykernel)",
   "language": "python",
   "name": "python3"
  },
  "language_info": {
   "codemirror_mode": {
    "name": "ipython",
    "version": 3
   },
   "file_extension": ".py",
   "mimetype": "text/x-python",
   "name": "python",
   "nbconvert_exporter": "python",
   "pygments_lexer": "ipython3",
   "version": "3.11.5"
  }
 },
 "nbformat": 4,
 "nbformat_minor": 5
}
